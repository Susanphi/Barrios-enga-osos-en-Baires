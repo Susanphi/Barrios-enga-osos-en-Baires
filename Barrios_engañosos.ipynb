{
  "nbformat": 4,
  "nbformat_minor": 0,
  "metadata": {
    "kernelspec": {
      "display_name": "Python 3",
      "language": "python",
      "name": "python3"
    },
    "language_info": {
      "codemirror_mode": {
        "name": "ipython",
        "version": 3
      },
      "file_extension": ".py",
      "mimetype": "text/x-python",
      "name": "python",
      "nbconvert_exporter": "python",
      "pygments_lexer": "ipython3",
      "version": "3.7.1"
    },
    "colab": {
      "name": "Barrios engañosos.ipynb",
      "provenance": [],
      "collapsed_sections": [
        "3_YdNRyX7p9C",
        "hyvyMaRn7p-L",
        "0EOf94457p-4",
        "Nkz36lAk7p_f",
        "PEEuC4WC7p_3",
        "LlWHWH1h7qAE",
        "bP9Oz8QI7qAl"
      ]
    }
  },
  "cells": [
    {
      "cell_type": "markdown",
      "metadata": {
        "id": "FYmWcq1V7p6K",
        "colab_type": "text"
      },
      "source": [
        "# Barrios en Buenos Aires que quieren ser otros"
      ]
    },
    {
      "cell_type": "markdown",
      "metadata": {
        "id": "uEOE7UEs7p6L",
        "colab_type": "text"
      },
      "source": [
        "En esta nota de [blog](http://blog.properati.com.ar/barrios-que-quieren-ser-otros/), vemos como algunas propiedades han sido declaradas con el nombre de un barrio pero la realidad es que su ubicación nos dice otra cosa... misterio, misterio... misterio que vamos a resolver. \n",
        "\n",
        "Dataset: propiedades en venta publicadas en el portal [Properati](www.properati.com.ar)."
      ]
    },
    {
      "cell_type": "markdown",
      "metadata": {
        "id": "gK2uqiVI7p6M",
        "colab_type": "text"
      },
      "source": [
        "## Los atributos de la muestra\n",
        "\n",
        "* **id**: id de la propiedad\n",
        "* **created_on**: fecha en la que la propiedad ingresó al sitio\n",
        "* **operation**: alquiler (rent) o venta (sell)\n",
        "* **property_type**: tipo de propiedad (casa, departamento, ph, etcétera)\n",
        "* **place_with_parent_names**: nombre del lugar donde se encuentra la propiedad según el publicador\n",
        "* **lat-lon**: coordenadas concatenadas\n",
        "* **lat**: latitud\n",
        "* **lon**: longitud\n",
        "* **price**: precio en la moneda especificada en currency\n",
        "* **currency**: divisa en la que está expresada la publicación\n",
        "* **price_aprox_usd**: precio aproximado en dólares estadounidenses\n",
        "* **surface_total_in_m2**: superficie total (en metros cuadrados)\n",
        "* **surface_covered_in_m2**: superficie cubierta (en metros cuadrados)\n",
        "* **price_usd_per_m2**: precio por metro cuadrado en dólares (precio dólares / superficie)\n",
        "* **floor**: número de piso (si corresponde)\n",
        "* **rooms**: cantidad de ambientes\n",
        "* **expenses**: expensas (si corresponde)\n",
        "* **barrio**: barrio según cartografía oficial\n",
        "* **properati_url**: url de la publicación en Properati\n"
      ]
    },
    {
      "cell_type": "code",
      "metadata": {
        "id": "HqkTSIIt7p6O",
        "colab_type": "code",
        "colab": {}
      },
      "source": [
        "import numpy as np\n",
        "import pandas as pd\n",
        "import matplotlib.pylab as plt\n",
        "import seaborn as sns\n",
        "%matplotlib inline\n",
        "plt.rcParams['figure.figsize'] = (15,9)\n",
        "pd.set_option('max_columns', 100)\n",
        "pd.set_option('max_colwidth', 2000)"
      ],
      "execution_count": null,
      "outputs": []
    },
    {
      "cell_type": "code",
      "metadata": {
        "id": "E0MjW71X_Nzk",
        "colab_type": "code",
        "colab": {
          "resources": {
            "http://localhost:8080/nbextensions/google.colab/files.js": {
              "data": "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",
              "ok": true,
              "headers": [
                [
                  "content-type",
                  "application/javascript"
                ]
              ],
              "status": 200,
              "status_text": ""
            }
          },
          "base_uri": "https://localhost:8080/",
          "height": 73
        },
        "outputId": "1a5945c2-bb19-49a5-b6fb-48ae6297228d"
      },
      "source": [
        "from google.colab import files\n",
        "def getLocalFiles():\n",
        "    _files = files.upload()\n",
        "    if len(_files) >0:\n",
        "       for k,v in _files.items():\n",
        "         open(k,'wb').write(v)\n",
        "getLocalFiles()"
      ],
      "execution_count": null,
      "outputs": [
        {
          "output_type": "display_data",
          "data": {
            "text/html": [
              "\n",
              "     <input type=\"file\" id=\"files-90591b59-256c-42a9-99c3-a9f8c208782c\" name=\"files[]\" multiple disabled\n",
              "        style=\"border:none\" />\n",
              "     <output id=\"result-90591b59-256c-42a9-99c3-a9f8c208782c\">\n",
              "      Upload widget is only available when the cell has been executed in the\n",
              "      current browser session. Please rerun this cell to enable.\n",
              "      </output>\n",
              "      <script src=\"/nbextensions/google.colab/files.js\"></script> "
            ],
            "text/plain": [
              "<IPython.core.display.HTML object>"
            ]
          },
          "metadata": {
            "tags": []
          }
        },
        {
          "output_type": "stream",
          "text": [
            "Saving datos_properati.csv to datos_properati.csv\n"
          ],
          "name": "stdout"
        }
      ]
    },
    {
      "cell_type": "code",
      "metadata": {
        "id": "uCJxzZcPAc8l",
        "colab_type": "code",
        "colab": {
          "base_uri": "https://localhost:8080/",
          "height": 351
        },
        "outputId": "1011294a-bcb8-4c71-d5bd-4652abb1d850"
      },
      "source": [
        "df = pd.read_csv(\"datos_properati.csv\",sep=',',parse_dates=[\"created_on\"])\n",
        "df.head()"
      ],
      "execution_count": null,
      "outputs": [
        {
          "output_type": "execute_result",
          "data": {
            "text/html": [
              "<div>\n",
              "<style scoped>\n",
              "    .dataframe tbody tr th:only-of-type {\n",
              "        vertical-align: middle;\n",
              "    }\n",
              "\n",
              "    .dataframe tbody tr th {\n",
              "        vertical-align: top;\n",
              "    }\n",
              "\n",
              "    .dataframe thead th {\n",
              "        text-align: right;\n",
              "    }\n",
              "</style>\n",
              "<table border=\"1\" class=\"dataframe\">\n",
              "  <thead>\n",
              "    <tr style=\"text-align: right;\">\n",
              "      <th></th>\n",
              "      <th>created_on</th>\n",
              "      <th>operation</th>\n",
              "      <th>property_type</th>\n",
              "      <th>place_with_parent_names</th>\n",
              "      <th>lat-lon</th>\n",
              "      <th>lat</th>\n",
              "      <th>lon</th>\n",
              "      <th>price_aprox_usd</th>\n",
              "      <th>surface_total_in_m2</th>\n",
              "      <th>surface_covered_in_m2</th>\n",
              "      <th>price_usd_per_m2</th>\n",
              "      <th>floor</th>\n",
              "      <th>rooms</th>\n",
              "      <th>expenses</th>\n",
              "      <th>properati_url</th>\n",
              "      <th>barrio</th>\n",
              "      <th>comuna</th>\n",
              "    </tr>\n",
              "  </thead>\n",
              "  <tbody>\n",
              "    <tr>\n",
              "      <th>0</th>\n",
              "      <td>2017-09-22</td>\n",
              "      <td>sell</td>\n",
              "      <td>house</td>\n",
              "      <td>|Argentina|Capital Federal|Palermo|Palermo Viejo|</td>\n",
              "      <td>-34.5889531469,-58.4298817776</td>\n",
              "      <td>-34.588953</td>\n",
              "      <td>-58.429882</td>\n",
              "      <td>2000000.0</td>\n",
              "      <td>312.0</td>\n",
              "      <td>NaN</td>\n",
              "      <td>6410.256410</td>\n",
              "      <td>NaN</td>\n",
              "      <td>NaN</td>\n",
              "      <td>NaN</td>\n",
              "      <td>https://www.properati.com.ar/2os_venta_casa_palermo-viejo_rent-ba</td>\n",
              "      <td>PALERMO</td>\n",
              "      <td>14.0</td>\n",
              "    </tr>\n",
              "    <tr>\n",
              "      <th>1</th>\n",
              "      <td>2017-08-01</td>\n",
              "      <td>sell</td>\n",
              "      <td>store</td>\n",
              "      <td>|Argentina|Capital Federal|Palermo|</td>\n",
              "      <td>-34.586069,-58.414431</td>\n",
              "      <td>-34.586069</td>\n",
              "      <td>-58.414431</td>\n",
              "      <td>790000.0</td>\n",
              "      <td>121.0</td>\n",
              "      <td>121.0</td>\n",
              "      <td>6528.925620</td>\n",
              "      <td>NaN</td>\n",
              "      <td>NaN</td>\n",
              "      <td>NaN</td>\n",
              "      <td>https://www.properati.com.ar/1cl7l_venta_local_palermo_santa-fe-av-al-3500_sotano_garage_subte-linea-d_deptos-temporarios</td>\n",
              "      <td>PALERMO</td>\n",
              "      <td>14.0</td>\n",
              "    </tr>\n",
              "    <tr>\n",
              "      <th>2</th>\n",
              "      <td>2017-08-02</td>\n",
              "      <td>sell</td>\n",
              "      <td>store</td>\n",
              "      <td>|Argentina|Capital Federal|Palermo|Palermo Soho|</td>\n",
              "      <td>-34.589723,-58.4325664</td>\n",
              "      <td>-34.589723</td>\n",
              "      <td>-58.432566</td>\n",
              "      <td>343000.0</td>\n",
              "      <td>122.0</td>\n",
              "      <td>108.0</td>\n",
              "      <td>2811.475410</td>\n",
              "      <td>NaN</td>\n",
              "      <td>2.0</td>\n",
              "      <td>NaN</td>\n",
              "      <td>https://www.properati.com.ar/1cm8w_venta_local_palermo-soho_cabrera-jose-a-_5000_jardin_lavadero_patio_piscina_toilette_garage_ojo-propiedades</td>\n",
              "      <td>PALERMO</td>\n",
              "      <td>14.0</td>\n",
              "    </tr>\n",
              "    <tr>\n",
              "      <th>3</th>\n",
              "      <td>2017-08-03</td>\n",
              "      <td>sell</td>\n",
              "      <td>store</td>\n",
              "      <td>|Argentina|Capital Federal|Palermo|</td>\n",
              "      <td>-34.5923646,-58.4144028</td>\n",
              "      <td>-34.592365</td>\n",
              "      <td>-58.414403</td>\n",
              "      <td>145000.0</td>\n",
              "      <td>24.0</td>\n",
              "      <td>24.0</td>\n",
              "      <td>6041.666667</td>\n",
              "      <td>NaN</td>\n",
              "      <td>NaN</td>\n",
              "      <td>NaN</td>\n",
              "      <td>https://www.properati.com.ar/1covk_venta_local_palermo_paraguay-al-3500_subte-linea-d_brick-propiedades-local-alto-palermo</td>\n",
              "      <td>PALERMO</td>\n",
              "      <td>14.0</td>\n",
              "    </tr>\n",
              "    <tr>\n",
              "      <th>4</th>\n",
              "      <td>2017-08-08</td>\n",
              "      <td>sell</td>\n",
              "      <td>store</td>\n",
              "      <td>|Argentina|Capital Federal|Barrio Norte|</td>\n",
              "      <td>-34.585652875,-58.4114933233</td>\n",
              "      <td>-34.585653</td>\n",
              "      <td>-58.411493</td>\n",
              "      <td>175000.0</td>\n",
              "      <td>24.0</td>\n",
              "      <td>24.0</td>\n",
              "      <td>7291.666667</td>\n",
              "      <td>NaN</td>\n",
              "      <td>NaN</td>\n",
              "      <td>NaN</td>\n",
              "      <td>https://www.properati.com.ar/1csk7_venta_local_barrio-norte_subte-linea-d_aranalfe_e1j</td>\n",
              "      <td>PALERMO</td>\n",
              "      <td>14.0</td>\n",
              "    </tr>\n",
              "  </tbody>\n",
              "</table>\n",
              "</div>"
            ],
            "text/plain": [
              "  created_on operation property_type  \\\n",
              "0 2017-09-22      sell         house   \n",
              "1 2017-08-01      sell         store   \n",
              "2 2017-08-02      sell         store   \n",
              "3 2017-08-03      sell         store   \n",
              "4 2017-08-08      sell         store   \n",
              "\n",
              "                             place_with_parent_names  \\\n",
              "0  |Argentina|Capital Federal|Palermo|Palermo Viejo|   \n",
              "1                |Argentina|Capital Federal|Palermo|   \n",
              "2   |Argentina|Capital Federal|Palermo|Palermo Soho|   \n",
              "3                |Argentina|Capital Federal|Palermo|   \n",
              "4           |Argentina|Capital Federal|Barrio Norte|   \n",
              "\n",
              "                         lat-lon        lat        lon  price_aprox_usd  \\\n",
              "0  -34.5889531469,-58.4298817776 -34.588953 -58.429882        2000000.0   \n",
              "1          -34.586069,-58.414431 -34.586069 -58.414431         790000.0   \n",
              "2         -34.589723,-58.4325664 -34.589723 -58.432566         343000.0   \n",
              "3        -34.5923646,-58.4144028 -34.592365 -58.414403         145000.0   \n",
              "4   -34.585652875,-58.4114933233 -34.585653 -58.411493         175000.0   \n",
              "\n",
              "   surface_total_in_m2  surface_covered_in_m2  price_usd_per_m2  floor  rooms  \\\n",
              "0                312.0                    NaN       6410.256410    NaN    NaN   \n",
              "1                121.0                  121.0       6528.925620    NaN    NaN   \n",
              "2                122.0                  108.0       2811.475410    NaN    2.0   \n",
              "3                 24.0                   24.0       6041.666667    NaN    NaN   \n",
              "4                 24.0                   24.0       7291.666667    NaN    NaN   \n",
              "\n",
              "   expenses  \\\n",
              "0       NaN   \n",
              "1       NaN   \n",
              "2       NaN   \n",
              "3       NaN   \n",
              "4       NaN   \n",
              "\n",
              "                                                                                                                                    properati_url  \\\n",
              "0                                                                               https://www.properati.com.ar/2os_venta_casa_palermo-viejo_rent-ba   \n",
              "1                       https://www.properati.com.ar/1cl7l_venta_local_palermo_santa-fe-av-al-3500_sotano_garage_subte-linea-d_deptos-temporarios   \n",
              "2  https://www.properati.com.ar/1cm8w_venta_local_palermo-soho_cabrera-jose-a-_5000_jardin_lavadero_patio_piscina_toilette_garage_ojo-propiedades   \n",
              "3                      https://www.properati.com.ar/1covk_venta_local_palermo_paraguay-al-3500_subte-linea-d_brick-propiedades-local-alto-palermo   \n",
              "4                                                          https://www.properati.com.ar/1csk7_venta_local_barrio-norte_subte-linea-d_aranalfe_e1j   \n",
              "\n",
              "    barrio  comuna  \n",
              "0  PALERMO    14.0  \n",
              "1  PALERMO    14.0  \n",
              "2  PALERMO    14.0  \n",
              "3  PALERMO    14.0  \n",
              "4  PALERMO    14.0  "
            ]
          },
          "metadata": {
            "tags": []
          },
          "execution_count": 4
        }
      ]
    },
    {
      "cell_type": "markdown",
      "metadata": {
        "id": "Q0u7GChZ7p6w",
        "colab_type": "text"
      },
      "source": [
        "## Exploración de datos"
      ]
    },
    {
      "cell_type": "code",
      "metadata": {
        "id": "fBIIRgqF7p6x",
        "colab_type": "code",
        "colab": {
          "base_uri": "https://localhost:8080/",
          "height": 275
        },
        "outputId": "b771c99a-fe0a-4593-c6db-fa5a5525faeb"
      },
      "source": [
        "print(df.shape)\n",
        "df.head(3)"
      ],
      "execution_count": null,
      "outputs": [
        {
          "output_type": "stream",
          "text": [
            "(18979, 17)\n"
          ],
          "name": "stdout"
        },
        {
          "output_type": "execute_result",
          "data": {
            "text/html": [
              "<div>\n",
              "<style scoped>\n",
              "    .dataframe tbody tr th:only-of-type {\n",
              "        vertical-align: middle;\n",
              "    }\n",
              "\n",
              "    .dataframe tbody tr th {\n",
              "        vertical-align: top;\n",
              "    }\n",
              "\n",
              "    .dataframe thead th {\n",
              "        text-align: right;\n",
              "    }\n",
              "</style>\n",
              "<table border=\"1\" class=\"dataframe\">\n",
              "  <thead>\n",
              "    <tr style=\"text-align: right;\">\n",
              "      <th></th>\n",
              "      <th>created_on</th>\n",
              "      <th>operation</th>\n",
              "      <th>property_type</th>\n",
              "      <th>place_with_parent_names</th>\n",
              "      <th>lat-lon</th>\n",
              "      <th>lat</th>\n",
              "      <th>lon</th>\n",
              "      <th>price_aprox_usd</th>\n",
              "      <th>surface_total_in_m2</th>\n",
              "      <th>surface_covered_in_m2</th>\n",
              "      <th>price_usd_per_m2</th>\n",
              "      <th>floor</th>\n",
              "      <th>rooms</th>\n",
              "      <th>expenses</th>\n",
              "      <th>properati_url</th>\n",
              "      <th>barrio</th>\n",
              "      <th>comuna</th>\n",
              "    </tr>\n",
              "  </thead>\n",
              "  <tbody>\n",
              "    <tr>\n",
              "      <th>0</th>\n",
              "      <td>2017-09-22</td>\n",
              "      <td>sell</td>\n",
              "      <td>house</td>\n",
              "      <td>|Argentina|Capital Federal|Palermo|Palermo Viejo|</td>\n",
              "      <td>-34.5889531469,-58.4298817776</td>\n",
              "      <td>-34.588953</td>\n",
              "      <td>-58.429882</td>\n",
              "      <td>2000000.0</td>\n",
              "      <td>312.0</td>\n",
              "      <td>NaN</td>\n",
              "      <td>6410.25641</td>\n",
              "      <td>NaN</td>\n",
              "      <td>NaN</td>\n",
              "      <td>NaN</td>\n",
              "      <td>https://www.properati.com.ar/2os_venta_casa_palermo-viejo_rent-ba</td>\n",
              "      <td>PALERMO</td>\n",
              "      <td>14.0</td>\n",
              "    </tr>\n",
              "    <tr>\n",
              "      <th>1</th>\n",
              "      <td>2017-08-01</td>\n",
              "      <td>sell</td>\n",
              "      <td>store</td>\n",
              "      <td>|Argentina|Capital Federal|Palermo|</td>\n",
              "      <td>-34.586069,-58.414431</td>\n",
              "      <td>-34.586069</td>\n",
              "      <td>-58.414431</td>\n",
              "      <td>790000.0</td>\n",
              "      <td>121.0</td>\n",
              "      <td>121.0</td>\n",
              "      <td>6528.92562</td>\n",
              "      <td>NaN</td>\n",
              "      <td>NaN</td>\n",
              "      <td>NaN</td>\n",
              "      <td>https://www.properati.com.ar/1cl7l_venta_local_palermo_santa-fe-av-al-3500_sotano_garage_subte-linea-d_deptos-temporarios</td>\n",
              "      <td>PALERMO</td>\n",
              "      <td>14.0</td>\n",
              "    </tr>\n",
              "    <tr>\n",
              "      <th>2</th>\n",
              "      <td>2017-08-02</td>\n",
              "      <td>sell</td>\n",
              "      <td>store</td>\n",
              "      <td>|Argentina|Capital Federal|Palermo|Palermo Soho|</td>\n",
              "      <td>-34.589723,-58.4325664</td>\n",
              "      <td>-34.589723</td>\n",
              "      <td>-58.432566</td>\n",
              "      <td>343000.0</td>\n",
              "      <td>122.0</td>\n",
              "      <td>108.0</td>\n",
              "      <td>2811.47541</td>\n",
              "      <td>NaN</td>\n",
              "      <td>2.0</td>\n",
              "      <td>NaN</td>\n",
              "      <td>https://www.properati.com.ar/1cm8w_venta_local_palermo-soho_cabrera-jose-a-_5000_jardin_lavadero_patio_piscina_toilette_garage_ojo-propiedades</td>\n",
              "      <td>PALERMO</td>\n",
              "      <td>14.0</td>\n",
              "    </tr>\n",
              "  </tbody>\n",
              "</table>\n",
              "</div>"
            ],
            "text/plain": [
              "  created_on operation property_type  \\\n",
              "0 2017-09-22      sell         house   \n",
              "1 2017-08-01      sell         store   \n",
              "2 2017-08-02      sell         store   \n",
              "\n",
              "                             place_with_parent_names  \\\n",
              "0  |Argentina|Capital Federal|Palermo|Palermo Viejo|   \n",
              "1                |Argentina|Capital Federal|Palermo|   \n",
              "2   |Argentina|Capital Federal|Palermo|Palermo Soho|   \n",
              "\n",
              "                         lat-lon        lat        lon  price_aprox_usd  \\\n",
              "0  -34.5889531469,-58.4298817776 -34.588953 -58.429882        2000000.0   \n",
              "1          -34.586069,-58.414431 -34.586069 -58.414431         790000.0   \n",
              "2         -34.589723,-58.4325664 -34.589723 -58.432566         343000.0   \n",
              "\n",
              "   surface_total_in_m2  surface_covered_in_m2  price_usd_per_m2  floor  rooms  \\\n",
              "0                312.0                    NaN        6410.25641    NaN    NaN   \n",
              "1                121.0                  121.0        6528.92562    NaN    NaN   \n",
              "2                122.0                  108.0        2811.47541    NaN    2.0   \n",
              "\n",
              "   expenses  \\\n",
              "0       NaN   \n",
              "1       NaN   \n",
              "2       NaN   \n",
              "\n",
              "                                                                                                                                    properati_url  \\\n",
              "0                                                                               https://www.properati.com.ar/2os_venta_casa_palermo-viejo_rent-ba   \n",
              "1                       https://www.properati.com.ar/1cl7l_venta_local_palermo_santa-fe-av-al-3500_sotano_garage_subte-linea-d_deptos-temporarios   \n",
              "2  https://www.properati.com.ar/1cm8w_venta_local_palermo-soho_cabrera-jose-a-_5000_jardin_lavadero_patio_piscina_toilette_garage_ojo-propiedades   \n",
              "\n",
              "    barrio  comuna  \n",
              "0  PALERMO    14.0  \n",
              "1  PALERMO    14.0  \n",
              "2  PALERMO    14.0  "
            ]
          },
          "metadata": {
            "tags": []
          },
          "execution_count": 5
        }
      ]
    },
    {
      "cell_type": "markdown",
      "metadata": {
        "id": "vEIfwoQ87p64",
        "colab_type": "text"
      },
      "source": [
        "## Categorías de propiedades"
      ]
    },
    {
      "cell_type": "code",
      "metadata": {
        "id": "PSS17LQ97p65",
        "colab_type": "code",
        "colab": {
          "base_uri": "https://localhost:8080/",
          "height": 158
        },
        "outputId": "851dcd72-d85f-491a-af40-bebf295b5069"
      },
      "source": [
        "categorias = list(df[\"property_type\"].unique())\n",
        "print(\"Categorias de propiedades: %s\\n\" % categorias)\n",
        "\n",
        "cantidad = df.groupby(\"property_type\")\n",
        "cantidad.size()"
      ],
      "execution_count": null,
      "outputs": [
        {
          "output_type": "stream",
          "text": [
            "Categorias de propiedades: ['house', 'store', 'apartment', 'PH']\n",
            "\n"
          ],
          "name": "stdout"
        },
        {
          "output_type": "execute_result",
          "data": {
            "text/plain": [
              "property_type\n",
              "PH            1463\n",
              "apartment    14807\n",
              "house         1618\n",
              "store         1091\n",
              "dtype: int64"
            ]
          },
          "metadata": {
            "tags": []
          },
          "execution_count": 6
        }
      ]
    },
    {
      "cell_type": "markdown",
      "metadata": {
        "id": "UQgpnomp7p7N",
        "colab_type": "text"
      },
      "source": [
        "### Filtrando las categorías\n",
        "\n",
        "De las categorías existentes sólo queremos quedarnos con las que sean casas (house), departamentos (apartment) o PH (PH). "
      ]
    },
    {
      "cell_type": "code",
      "metadata": {
        "id": "Sa5i6A_r7p7r",
        "colab_type": "code",
        "colab": {
          "base_uri": "https://localhost:8080/",
          "height": 552
        },
        "outputId": "bec24b23-f152-4cea-b277-2914ae397789"
      },
      "source": [
        "df_filtered = df.copy()\n",
        "df_filtered[df_filtered.property_type != \"store\"]\n",
        "df_filtered = df_filtered[df_filtered.property_type != \"store\"]\n",
        "\n",
        "ax = sns.countplot(x=\"property_type\", data=df_filtered)"
      ],
      "execution_count": null,
      "outputs": [
        {
          "output_type": "display_data",
          "data": {
            "image/png": "[encoded data removed]",
            "text/plain": [
              "<Figure size 1080x648 with 1 Axes>"
            ]
          },
          "metadata": {
            "tags": [],
            "needs_background": "light"
          }
        }
      ]
    },
    {
      "cell_type": "code",
      "metadata": {
        "id": "ElN9ouky8W3K",
        "colab_type": "code",
        "colab": {
          "base_uri": "https://localhost:8080/",
          "height": 552
        },
        "outputId": "d8ae2956-5903-4416-f493-f0dbb94f4888"
      },
      "source": [
        "df_filtered = df_filtered.dropna(subset = ['surface_total_in_m2', 'surface_covered_in_m2', 'rooms', 'price_aprox_usd', 'price_usd_per_m2'])\n",
        "ax = sns.countplot(x=\"property_type\", data=df_filtered)"
      ],
      "execution_count": null,
      "outputs": [
        {
          "output_type": "display_data",
          "data": {
            "image/png": "[encoded data removed]",
            "text/plain": [
              "<Figure size 1080x648 with 1 Axes>"
            ]
          },
          "metadata": {
            "tags": [],
            "needs_background": "light"
          }
        }
      ]
    },
    {
      "cell_type": "markdown",
      "metadata": {
        "id": "hyvyMaRn7p-L",
        "colab_type": "text"
      },
      "source": [
        "### Barrios con más edificios y barrios con más casas"
      ]
    },
    {
      "cell_type": "code",
      "metadata": {
        "id": "HGpMm4NC7p-O",
        "colab_type": "code",
        "colab": {}
      },
      "source": [
        "total_propiedades = df_filtered.groupby('barrio')['property_type'].count().values"
      ],
      "execution_count": null,
      "outputs": []
    },
    {
      "cell_type": "code",
      "metadata": {
        "id": "YQWHX6ec7p-i",
        "colab_type": "code",
        "colab": {}
      },
      "source": [
        "porcentaje_casas_ph = df_filtered[df_filtered.property_type.isin(['PH', 'house'])].groupby('barrio').count().property_type/total_propiedades\n",
        "porcentaje_edificios = df_filtered[df_filtered.property_type == 'apartment'].groupby('barrio').count().property_type/total_propiedades"
      ],
      "execution_count": null,
      "outputs": []
    },
    {
      "cell_type": "code",
      "metadata": {
        "id": "XycWprGh7p-o",
        "colab_type": "code",
        "colab": {
          "base_uri": "https://localhost:8080/",
          "height": 301
        },
        "outputId": "e7226f1d-ab20-4a02-fff4-15e42f648410"
      },
      "source": [
        "print(\"Barrios con mayor porcentaje de edificios: \\n\", porcentaje_edificios.sort_values()[::-1][:5])\n",
        "print(\"Barrios con mayor porcentaje de casas y phs: \\n \", porcentaje_casas_ph.sort_values()[::-1][:5])"
      ],
      "execution_count": null,
      "outputs": [
        {
          "output_type": "stream",
          "text": [
            "Barrios con mayor porcentaje de edificios: \n",
            " barrio\n",
            "PUERTO MADERO    0.996154\n",
            "RETIRO           0.992925\n",
            "SAN NICOLAS      0.988827\n",
            "RECOLETA         0.988362\n",
            "BELGRANO         0.956316\n",
            "Name: property_type, dtype: float64\n",
            "Barrios con mayor porcentaje de casas y phs: \n",
            "  barrio\n",
            "VERSALLES            0.622222\n",
            "MATADEROS            0.612500\n",
            "PARQUE AVELLANEDA    0.560606\n",
            "VILLA RIACHUELO      0.555556\n",
            "VILLA REAL           0.500000\n",
            "Name: property_type, dtype: float64\n"
          ],
          "name": "stdout"
        }
      ]
    },
    {
      "cell_type": "code",
      "metadata": {
        "id": "e4NW4cjG7p-v",
        "colab_type": "code",
        "colab": {
          "base_uri": "https://localhost:8080/",
          "height": 403
        },
        "outputId": "61feb267-c388-4928-cffe-5bf67992fecb"
      },
      "source": [
        "barrios_casas = porcentaje_casas_ph.sort_values()[::-1][:5].index\n",
        "barrios_edificios = porcentaje_edificios.sort_values()[::-1][:5].index\n",
        "fig, axs = plt.subplots(1,2,figsize=(14,7))\n",
        "df_filtered[df_filtered.barrio.isin(barrios_edificios)].property_type.value_counts().plot(x=None,y=None, kind='pie', startangle=30, ax=axs[0],autopct='%1.2f%%')\n",
        "df_filtered[df_filtered.barrio.isin(barrios_casas)].property_type.value_counts().plot(x=None,y=None, kind='pie', ax=axs[1],autopct='%1.2f%%')"
      ],
      "execution_count": null,
      "outputs": [
        {
          "output_type": "execute_result",
          "data": {
            "text/plain": [
              "<matplotlib.axes._subplots.AxesSubplot at 0x7fb143657c18>"
            ]
          },
          "metadata": {
            "tags": []
          },
          "execution_count": 16
        },
        {
          "output_type": "display_data",
          "data": {
            "image/png": "[encoded data removed]",
            "text/plain": [
              "<Figure size 1008x504 with 2 Axes>"
            ]
          },
          "metadata": {
            "tags": []
          }
        }
      ]
    },
    {
      "cell_type": "markdown",
      "metadata": {
        "id": "0EOf94457p-4",
        "colab_type": "text"
      },
      "source": [
        "### Costos/valor de cada barrio"
      ]
    },
    {
      "cell_type": "code",
      "metadata": {
        "id": "gSu_lIEv7p-5",
        "colab_type": "code",
        "colab": {
          "base_uri": "https://localhost:8080/",
          "height": 105
        },
        "outputId": "fb1879dd-f899-4c3b-a937-1fe4259174e9"
      },
      "source": [
        "precio = df_filtered['price_usd_per_m2']\n",
        "precio.min(), precio.max(), precio.mean(), precio.median(), precio.std()"
      ],
      "execution_count": null,
      "outputs": [
        {
          "output_type": "execute_result",
          "data": {
            "text/plain": [
              "(0.9583333333333334,\n",
              " 142450.14102564106,\n",
              " 2819.156920248089,\n",
              " 2611.7,\n",
              " 1951.6291554142326)"
            ]
          },
          "metadata": {
            "tags": []
          },
          "execution_count": 18
        }
      ]
    },
    {
      "cell_type": "markdown",
      "metadata": {
        "id": "w3b5XYOT7p_x",
        "colab_type": "text"
      },
      "source": [
        "Barrios según el precio por metro cuadrado."
      ]
    },
    {
      "cell_type": "code",
      "metadata": {
        "id": "7O6sRtoF7p_y",
        "colab_type": "code",
        "colab": {
          "base_uri": "https://localhost:8080/",
          "height": 651
        },
        "outputId": "fde61a67-48ce-4d2e-b57f-c183511150aa"
      },
      "source": [
        "plt.xticks(rotation = 90)\n",
        "barrios = df_filtered.groupby('barrio').mean().sort_values('price_usd_per_m2', ascending=False).index\n",
        "sns.barplot(x=\"barrio\", y=\"price_usd_per_m2\", order=barrios, data=df_filtered);"
      ],
      "execution_count": null,
      "outputs": [
        {
          "output_type": "display_data",
          "data": {
            "image/png": "[encoded data removed]",
            "text/plain": [
              "<Figure size 1080x648 with 1 Axes>"
            ]
          },
          "metadata": {
            "tags": [],
            "needs_background": "light"
          }
        }
      ]
    },
    {
      "cell_type": "markdown",
      "metadata": {
        "id": "PEEuC4WC7p_3",
        "colab_type": "text"
      },
      "source": [
        "#### Más caros"
      ]
    },
    {
      "cell_type": "code",
      "metadata": {
        "id": "59_tUrIu7p_4",
        "colab_type": "code",
        "colab": {
          "base_uri": "https://localhost:8080/",
          "height": 227
        },
        "outputId": "c504c69e-4269-40e8-fdf3-9b4926338104"
      },
      "source": [
        "table = pd.pivot_table(df, values='price_usd_per_m2', index=['barrio'], aggfunc=np.mean)\n",
        "mas_caros = table.sort_values('price_usd_per_m2', ascending=False).iloc[:5]\n",
        "mas_caros"
      ],
      "execution_count": null,
      "outputs": [
        {
          "output_type": "execute_result",
          "data": {
            "text/html": [
              "<div>\n",
              "<style scoped>\n",
              "    .dataframe tbody tr th:only-of-type {\n",
              "        vertical-align: middle;\n",
              "    }\n",
              "\n",
              "    .dataframe tbody tr th {\n",
              "        vertical-align: top;\n",
              "    }\n",
              "\n",
              "    .dataframe thead th {\n",
              "        text-align: right;\n",
              "    }\n",
              "</style>\n",
              "<table border=\"1\" class=\"dataframe\">\n",
              "  <thead>\n",
              "    <tr style=\"text-align: right;\">\n",
              "      <th></th>\n",
              "      <th>price_usd_per_m2</th>\n",
              "    </tr>\n",
              "    <tr>\n",
              "      <th>barrio</th>\n",
              "      <th></th>\n",
              "    </tr>\n",
              "  </thead>\n",
              "  <tbody>\n",
              "    <tr>\n",
              "      <th>PUERTO MADERO</th>\n",
              "      <td>6156.633183</td>\n",
              "    </tr>\n",
              "    <tr>\n",
              "      <th>PALERMO</th>\n",
              "      <td>3632.057960</td>\n",
              "    </tr>\n",
              "    <tr>\n",
              "      <th>RETIRO</th>\n",
              "      <td>3417.635657</td>\n",
              "    </tr>\n",
              "    <tr>\n",
              "      <th>RECOLETA</th>\n",
              "      <td>3346.748987</td>\n",
              "    </tr>\n",
              "    <tr>\n",
              "      <th>BELGRANO</th>\n",
              "      <td>3338.725206</td>\n",
              "    </tr>\n",
              "  </tbody>\n",
              "</table>\n",
              "</div>"
            ],
            "text/plain": [
              "               price_usd_per_m2\n",
              "barrio                         \n",
              "PUERTO MADERO       6156.633183\n",
              "PALERMO             3632.057960\n",
              "RETIRO              3417.635657\n",
              "RECOLETA            3346.748987\n",
              "BELGRANO            3338.725206"
            ]
          },
          "metadata": {
            "tags": []
          },
          "execution_count": 23
        }
      ]
    },
    {
      "cell_type": "markdown",
      "metadata": {
        "id": "LlWHWH1h7qAE",
        "colab_type": "text"
      },
      "source": [
        "#### Más baratos"
      ]
    },
    {
      "cell_type": "code",
      "metadata": {
        "id": "Jr5UyrIz7qAF",
        "colab_type": "code",
        "colab": {
          "base_uri": "https://localhost:8080/",
          "height": 227
        },
        "outputId": "9d26e0cb-2e51-43a1-c743-68e3c4e1e7b5"
      },
      "source": [
        "table = pd.pivot_table(df, values='price_usd_per_m2', index=['barrio'], aggfunc=np.mean)\n",
        "mas_baratos = table.sort_values('price_usd_per_m2', ascending=True).iloc[:5]\n",
        "mas_baratos"
      ],
      "execution_count": null,
      "outputs": [
        {
          "output_type": "execute_result",
          "data": {
            "text/html": [
              "<div>\n",
              "<style scoped>\n",
              "    .dataframe tbody tr th:only-of-type {\n",
              "        vertical-align: middle;\n",
              "    }\n",
              "\n",
              "    .dataframe tbody tr th {\n",
              "        vertical-align: top;\n",
              "    }\n",
              "\n",
              "    .dataframe thead th {\n",
              "        text-align: right;\n",
              "    }\n",
              "</style>\n",
              "<table border=\"1\" class=\"dataframe\">\n",
              "  <thead>\n",
              "    <tr style=\"text-align: right;\">\n",
              "      <th></th>\n",
              "      <th>price_usd_per_m2</th>\n",
              "    </tr>\n",
              "    <tr>\n",
              "      <th>barrio</th>\n",
              "      <th></th>\n",
              "    </tr>\n",
              "  </thead>\n",
              "  <tbody>\n",
              "    <tr>\n",
              "      <th>VILLA SOLDATI</th>\n",
              "      <td>920.825753</td>\n",
              "    </tr>\n",
              "    <tr>\n",
              "      <th>VILLA LUGANO</th>\n",
              "      <td>1179.846071</td>\n",
              "    </tr>\n",
              "    <tr>\n",
              "      <th>VILLA RIACHUELO</th>\n",
              "      <td>1274.809950</td>\n",
              "    </tr>\n",
              "    <tr>\n",
              "      <th>PARQUE AVELLANEDA</th>\n",
              "      <td>1386.260577</td>\n",
              "    </tr>\n",
              "    <tr>\n",
              "      <th>NUEVA POMPEYA</th>\n",
              "      <td>1539.235869</td>\n",
              "    </tr>\n",
              "  </tbody>\n",
              "</table>\n",
              "</div>"
            ],
            "text/plain": [
              "                   price_usd_per_m2\n",
              "barrio                             \n",
              "VILLA SOLDATI            920.825753\n",
              "VILLA LUGANO            1179.846071\n",
              "VILLA RIACHUELO         1274.809950\n",
              "PARQUE AVELLANEDA       1386.260577\n",
              "NUEVA POMPEYA           1539.235869"
            ]
          },
          "metadata": {
            "tags": []
          },
          "execution_count": 24
        }
      ]
    },
    {
      "cell_type": "markdown",
      "metadata": {
        "id": "bP9Oz8QI7qAl",
        "colab_type": "text"
      },
      "source": [
        "### Barrios que quieren ser otros"
      ]
    },
    {
      "cell_type": "markdown",
      "metadata": {
        "id": "sXflhU2L7qAo",
        "colab_type": "text"
      },
      "source": [
        "Basado en información de mercado, desde el portal Properati han señalado que las inmobiliarias suelen publicar las propiedades ubicadas en barrios que no necesariamente se corresponden con la ubicación geográfica real. Según mencionan en la nota ([blog)](http://blog.properati.com.ar/barrios-que-quieren-ser-otros/), esto corresponde a una lógica comercial en el corredor norte y a usos y costumbres en zona oeste.\n",
        "\n",
        "Analicemos qué sucede para nuestro dataset."
      ]
    },
    {
      "cell_type": "markdown",
      "metadata": {
        "id": "WgbzSa5p7qAo",
        "colab_type": "text"
      },
      "source": [
        "Una vez que ya exploramos los datos y entendimos cuales son las categorias de precios según el barrio vamos a analizar como se relacionan las columnas `barrio` y `barrio publicado`. \n",
        "\n",
        "Si las ubicaciones no coinciden podemos entonces decir que hay barrios que quieren ser otros.\n",
        "\n",
        "Viendo la estructura de este atributo, podemos notar que se compone por una sequencia de lugares separados por `|`. Por ejemplo, en `|Argentina|Capital Federal|Palermo|` vemos que primero está el país, luego la ciudad, luego el barrio y en algunos casos hay una jerarquía más, relacionado con zonas dentro del barrio (como Palermo Soho dentro de Palermo). \n",
        "\n",
        "De este modo, una estrategia posible para resolver esto es separar las jerarquías por `|` y extraer el elemento asociado al barrio. Por ejemplo, para `|Argentina|Capital Federal|Palermo|` queda `['', 'Argentina', 'Capital Federal', 'Palermo', '']`. Extrayendo el tercer elemento obtendremos el barrio independientemente de si hay lugares luego en la jerarquía. Aquellos que no tengan barrio no serán considerados puesto que estarían ubicados en Capital Federal y no sería informativo.\n",
        "\n",
        "Lo pasamos a mayúsculas y quitamos las tildes para poder comparar con el barrio oficial."
      ]
    },
    {
      "cell_type": "code",
      "metadata": {
        "id": "EbhJXbWp7qAq",
        "colab_type": "code",
        "colab": {
          "base_uri": "https://localhost:8080/",
          "height": 34
        },
        "outputId": "38653c3e-44b3-4ab2-f708-5bf47d014190"
      },
      "source": [
        "df_filtered['place_with_parent_names'].apply(lambda x: len(x.split(\"|\"))).unique()"
      ],
      "execution_count": null,
      "outputs": [
        {
          "output_type": "execute_result",
          "data": {
            "text/plain": [
              "array([5, 6, 4])"
            ]
          },
          "metadata": {
            "tags": []
          },
          "execution_count": 26
        }
      ]
    },
    {
      "cell_type": "code",
      "metadata": {
        "id": "WmT_UDnG7qAw",
        "colab_type": "code",
        "colab": {}
      },
      "source": [
        "split_place_filter = df_filtered['place_with_parent_names'].apply(lambda x: len(x.split(\"|\"))!=4)\n",
        "df_filtered = df_filtered.loc[split_place_filter]"
      ],
      "execution_count": null,
      "outputs": []
    },
    {
      "cell_type": "code",
      "metadata": {
        "id": "WqjLoism7qA4",
        "colab_type": "code",
        "colab": {}
      },
      "source": [
        "df_filtered['barrio_publicado'] = df_filtered['place_with_parent_names'].apply( lambda x: x.split(\"|\")[3].upper())\n",
        "df_filtered['barrio_publicado'] = df_filtered['barrio_publicado'].str.normalize('NFKD').str.encode('ascii', errors='ignore').str.decode('utf-8')"
      ],
      "execution_count": null,
      "outputs": []
    },
    {
      "cell_type": "markdown",
      "metadata": {
        "id": "_iLdrH3Z7qBA",
        "colab_type": "text"
      },
      "source": [
        "Comparamos los barrios de las columnas barrio y barrio publicado."
      ]
    },
    {
      "cell_type": "code",
      "metadata": {
        "id": "pVrwBnU67qBA",
        "colab_type": "code",
        "colab": {}
      },
      "source": [
        "barrios_match = (df_filtered['barrio_publicado'] != df_filtered['barrio'])\n",
        "df_filtered_barrio_not_match = df_filtered.loc[barrios_match]"
      ],
      "execution_count": null,
      "outputs": []
    },
    {
      "cell_type": "code",
      "metadata": {
        "scrolled": true,
        "id": "6cUL9R-67qBH",
        "colab_type": "code",
        "colab": {
          "base_uri": "https://localhost:8080/",
          "height": 887
        },
        "outputId": "d08613f3-6861-4b2e-f14d-9b6bf8762027"
      },
      "source": [
        "table = pd.crosstab(df_filtered_barrio_not_match.barrio, df_filtered_barrio_not_match.barrio_publicado)\n",
        "table.idxmax(axis=1)"
      ],
      "execution_count": null,
      "outputs": [
        {
          "output_type": "execute_result",
          "data": {
            "text/plain": [
              "barrio\n",
              "AGRONOMIA                VILLA PUEYRREDON\n",
              "ALMAGRO                           PALERMO\n",
              "BALVANERA                            ONCE\n",
              "BARRACAS                        SAN TELMO\n",
              "BELGRANO                            NUNEZ\n",
              "BOCA                             BARRACAS\n",
              "BOEDO                             ALMAGRO\n",
              "CABALLITO               PARQUE CENTENARIO\n",
              "CHACARITA                      COLEGIALES\n",
              "COGHLAN                          BELGRANO\n",
              "COLEGIALES                       BELGRANO\n",
              "CONSTITUCION                    SAN TELMO\n",
              "FLORES                          CABALLITO\n",
              "FLORESTA                           FLORES\n",
              "LINIERS                         VERSALLES\n",
              "MATADEROS                         LINIERS\n",
              "MONSERRAT                        CONGRESO\n",
              "MONTE CASTRO                 VILLA DEVOTO\n",
              "NUEVA POMPEYA                     POMPEYA\n",
              "NUEZ                                NUNEZ\n",
              "PALERMO                          BELGRANO\n",
              "PARQUE AVELLANEDA                FLORESTA\n",
              "PARQUE CHACABUCO                CABALLITO\n",
              "PARQUE CHAS                 VILLA URQUIZA\n",
              "PARQUE PATRICIOS            SAN CRISTOBAL\n",
              "PATERNAL                     VILLA CRESPO\n",
              "PUERTO MADERO                     PALERMO\n",
              "RECOLETA                     BARRIO NORTE\n",
              "RETIRO                           RECOLETA\n",
              "SAAVEDRA                            NUNEZ\n",
              "SAN CRISTOBAL                       BOEDO\n",
              "SAN NICOLAS          CENTRO / MICROCENTRO\n",
              "SAN TELMO                   PUERTO MADERO\n",
              "VELEZ SARSFIELD                  FLORESTA\n",
              "VILLA CRESPO                      PALERMO\n",
              "VILLA DEL PARQUE             VILLA DEVOTO\n",
              "VILLA DEVOTO             VILLA PUEYRREDON\n",
              "VILLA GRAL. MITRE     VILLA GENERAL MITRE\n",
              "VILLA LUGANO                    MATADEROS\n",
              "VILLA LURO                      VERSALLES\n",
              "VILLA ORTUZAR               VILLA URQUIZA\n",
              "VILLA PUEYRREDON             VILLA DEVOTO\n",
              "VILLA REAL                      VERSALLES\n",
              "VILLA RIACHUELO              VILLA LUGANO\n",
              "VILLA SANTA RITA         VILLA DEL PARQUE\n",
              "VILLA SOLDATI                VILLA LUGANO\n",
              "VILLA URQUIZA                    BELGRANO\n",
              "dtype: object"
            ]
          },
          "metadata": {
            "tags": []
          },
          "execution_count": 30
        }
      ]
    },
    {
      "cell_type": "markdown",
      "metadata": {
        "id": "aVA1BsAP7qBP",
        "colab_type": "text"
      },
      "source": [
        "Como conclusión entendemos que los barrios tienden a querer parecerse a los barrios que registran un valor mayor en el precio por metro."
      ]
    },
    {
      "cell_type": "code",
      "metadata": {
        "id": "i1sxBkHtFXWY",
        "colab_type": "code",
        "colab": {}
      },
      "source": [
        ""
      ],
      "execution_count": null,
      "outputs": []
    }
  ]
}